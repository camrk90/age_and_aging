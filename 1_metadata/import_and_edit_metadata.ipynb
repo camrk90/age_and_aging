{
 "cells": [
  {
   "cell_type": "code",
   "execution_count": 3,
   "id": "90309cf4",
   "metadata": {},
   "outputs": [],
   "source": [
    "#Import packages\n",
    "import pandas as pd"
   ]
  },
  {
   "cell_type": "code",
   "execution_count": 1,
   "id": "df0730cb",
   "metadata": {},
   "outputs": [],
   "source": [
    "#Set path\n",
    "location=input('Are you working locally or remotely today?')\n",
    "\n",
    "if location=='locally':\n",
    "    path=\"/Users/cameronkelsey/Documents/smack_lab/cayo_data/\"\n",
    "elif location=='remotely':\n",
    "    path=\"/scratch/ckelsey4/Cayo_meth/\""
   ]
  },
  {
   "cell_type": "code",
   "execution_count": null,
   "id": "adcb8342",
   "metadata": {},
   "outputs": [
    {
     "name": "stdout",
     "output_type": "stream",
     "text": [
      "  monkey_id         lid               lid_pid     reads    unique  non_unique  \\\n",
      "0       94H  LID_101336  LID_101336_PID_10042  23127829  11982435    10518332   \n",
      "1       O52  LID_101337  LID_101337_PID_10042  17867566   9500464     7931050   \n",
      "2       00O  LID_101338  LID_101338_PID_10042  15876928  10256418     5174014   \n",
      "3       9E6  LID_101342  LID_101342_PID_10042  17232480   9189594     7529510   \n",
      "4       52P  LID_101343  LID_101343_PID_10042  17198789   9506094     7255730   \n",
      "\n",
      "   meth_cpg  unmeth_cpg  reads_msp1 perc_chg_meth perc_chh_meth  chrX_ratio  \\\n",
      "0  13987051    17381896    21389482          0.8%          0.5%    0.463179   \n",
      "1  11972964    11128247    16523233          0.8%          0.6%    0.797373   \n",
      "2   6982073     7540174     8264281          0.7%          0.7%    0.879725   \n",
      "3  10359856    16591143    16454191          0.7%          0.5%    0.434197   \n",
      "4  10717038    14644166    16088491          0.8%          0.5%    0.775294   \n",
      "\n",
      "    prep_date   parentName grantparent_tissueType individual_sex  date_birth  \\\n",
      "0  2018-09-06  DID_1001155            whole_blood              M  1998-01-16   \n",
      "1  2018-08-30  DID_1001156            whole_blood              F  1988-01-16   \n",
      "2  2018-08-30  DID_1001158            whole_blood              F  1999-12-01   \n",
      "3  2018-08-30  DID_1001166            whole_blood              M  2007-10-15   \n",
      "4  2018-08-30  DID_1001167            whole_blood              F  2000-12-17   \n",
      "\n",
      "  group processing_timestamp  age_at_sampling  \n",
      "0   NaN           2012-01-18            14.01  \n",
      "1   NaN           2014-01-15            26.00  \n",
      "2   NaN           2014-01-28            14.16  \n",
      "3   NaN           2012-12-18             5.18  \n",
      "4   NaN           2012-03-14            11.24  \n"
     ]
    }
   ],
   "source": [
    "#Import metadata  \n",
    "blood_metadata=pd.read_table(path + \"metadata_temp_clean_241106.txt\", sep=r'\\s+')\n",
    "\n",
    "blood_metadata=blood_metadata[blood_metadata['grantparent_tissueType'] == 'whole_blood']\n",
    "\n"
   ]
  },
  {
   "cell_type": "code",
   "execution_count": null,
   "id": "52a4a130",
   "metadata": {},
   "outputs": [],
   "source": []
  }
 ],
 "metadata": {
  "kernelspec": {
   "display_name": ".conda",
   "language": "python",
   "name": "python3"
  },
  "language_info": {
   "codemirror_mode": {
    "name": "ipython",
    "version": 3
   },
   "file_extension": ".py",
   "mimetype": "text/x-python",
   "name": "python",
   "nbconvert_exporter": "python",
   "pygments_lexer": "ipython3",
   "version": "3.11.13"
  }
 },
 "nbformat": 4,
 "nbformat_minor": 5
}
